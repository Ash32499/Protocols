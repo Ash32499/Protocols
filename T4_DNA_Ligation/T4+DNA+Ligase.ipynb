{
 "cells": [
  {
   "cell_type": "code",
   "execution_count": null,
   "metadata": {
    "collapsed": false
   },
   "outputs": [],
   "source": [
    "#!pip install --upgrade opentrons"
   ]
  },
  {
   "cell_type": "code",
   "execution_count": 2,
   "metadata": {
    "collapsed": false
   },
   "outputs": [],
   "source": [
    "from opentrons import robot, containers, instruments\n",
    "\n",
    "#robot = Robot()"
   ]
  },
  {
   "cell_type": "code",
   "execution_count": 3,
   "metadata": {
    "collapsed": true
   },
   "outputs": [],
   "source": [
    "p10rack = containers.load(\n",
    "    'tiprack-200ul', \n",
    "    'A1',\n",
    "    'p10rack'\n",
    ")\n",
    "tuberack = containers.load(\n",
    "    'tube-rack-2ml', \n",
    "    'C1',\n",
    "    'tuberack'\n",
    ")\n",
    "trash = containers.load(\n",
    "    'point', \n",
    "    'B2', \n",
    "    'trash')\n",
    "\n",
    "p10 = instruments.Pipette(\n",
    "    name=\"p10\", # optional\n",
    "    trash_container=trash,\n",
    "    tip_racks=[p10rack],\n",
    "    max_volume=10,\n",
    "    min_volume=.5, # actual minimum volume of the pipette\n",
    "    axis=\"b\",\n",
    "    channels=1 # 1 o\n",
    ")"
   ]
  },
  {
   "cell_type": "code",
   "execution_count": 6,
   "metadata": {
    "collapsed": false
   },
   "outputs": [],
   "source": [
    "reaction_vol = 20 #uL\n",
    "samples = 1\n",
    "\n",
    "# locations\n",
    "buffer_local = tuberack['A1']\n",
    "vector_local = tuberack['B1']\n",
    "insert_local = tuberack['C1']\n",
    "water_local = tuberack['D1']\n",
    "ligase_local = tuberack['A2']\n",
    "sample_local = tuberack['B2']\n",
    "\n",
    "# initial concentrations\n",
    "buffer_initial = 10 # 10X\n",
    "vector_initial = .005 # ug/uL\n",
    "insert_initial = .0375\n",
    "\n",
    "# final concentrations\n",
    "buffer_final = 1 # 1X\n",
    "vector_final = .01 # .05 ug/uL\n",
    "insert_final = .0375 # .375 ug/uL\n",
    "\n",
    "# single sample volumes\n",
    "buffer_vol = (buffer_final*reaction_vol)/(buffer_initial) # uL\n",
    "vector_vol = (vector_final*1)/(vector_initial) # uL\n",
    "insert_vol = (insert_final*1)/(insert_initial) # uL\n",
    "ligase_vol = 1 # per 20 uL\n",
    "water_vol = reaction_vol - buffer_vol - vector_vol - insert_vol - ligase_vol # fill to 20 uL\n",
    "\n",
    "if water_vol < 0:\n",
    "    print(\"Volumes add up to more than 20 uL\")"
   ]
  },
  {
   "cell_type": "code",
   "execution_count": 7,
   "metadata": {
    "collapsed": false
   },
   "outputs": [
    {
     "data": {
      "text/plain": [
       "<opentrons.instruments.pipette.Pipette at 0x104f28f60>"
      ]
     },
     "execution_count": 7,
     "metadata": {},
     "output_type": "execute_result"
    }
   ],
   "source": [
    "# add water\n",
    "\n",
    "if water_vol <= 10:\n",
    "    p10.pick_up_tip().aspirate(water_vol, water_local).dispense(sample_local).drop_tip()\n",
    "else:\n",
    "    water_vol = water_vol/2\n",
    "    p10.pick_up_tip().aspirate(water_vol, water_local).dispense(sample_local).aspirate(water_vol, water_local).dispense(sample_local).drop_tip()\n",
    "\n",
    "# add buffer\n",
    "p10.pick_up_tip().aspirate(buffer_vol, buffer_local).dispense(sample_local).drop_tip()\n",
    "\n",
    "# add vector\n",
    "p10.pick_up_tip().aspirate(vector_vol, vector_local).dispense(sample_local).drop_tip()\n",
    "\n",
    "# add insert\n",
    "p10.pick_up_tip().aspirate(insert_vol, insert_local).dispense(sample_local).drop_tip()\n",
    "\n",
    "# resuspend and add ligase\n",
    "p10.pick_up_tip().mix(3, 10, ligase_local).aspirate(ligase_vol, ligase_local).dispense(sample_local).touch_tip()\n",
    "p10.mix(3, 10, sample_local).drop_tip()"
   ]
  },
  {
   "cell_type": "code",
   "execution_count": 8,
   "metadata": {
    "collapsed": false
   },
   "outputs": [
    {
     "data": {
      "text/plain": [
       "['Picking up tip from <In Place>',\n",
       " 'Aspirating 7.0uL at <Deck>/<Slot C1>/<Container tuberack>/<Well D1>',\n",
       " 'Dispensing <Well B2>uL at <In Place>',\n",
       " 'Aspirating 7.0uL at <Deck>/<Slot C1>/<Container tuberack>/<Well D1>',\n",
       " 'Dispensing <Well B2>uL at <In Place>',\n",
       " 'Drop_tip at <In Place>',\n",
       " 'Picking up tip from <In Place>',\n",
       " 'Aspirating 2.0uL at <Deck>/<Slot C1>/<Container tuberack>/<Well A1>',\n",
       " 'Dispensing <Well B2>uL at <In Place>',\n",
       " 'Drop_tip at <In Place>',\n",
       " 'Picking up tip from <In Place>',\n",
       " 'Aspirating 2.0uL at <Deck>/<Slot C1>/<Container tuberack>/<Well B1>',\n",
       " 'Dispensing <Well B2>uL at <In Place>',\n",
       " 'Drop_tip at <In Place>',\n",
       " 'Picking up tip from <In Place>',\n",
       " 'Aspirating 1.0uL at <Deck>/<Slot C1>/<Container tuberack>/<Well C1>',\n",
       " 'Dispensing <Well B2>uL at <In Place>',\n",
       " 'Drop_tip at <In Place>',\n",
       " 'Picking up tip from <In Place>',\n",
       " 'Mixing 3 times with a volume of 0ul',\n",
       " 'Aspirating 10uL at <Deck>/<Slot C1>/<Container tuberack>/<Well A2>',\n",
       " 'Dispensing 10uL at <In Place>',\n",
       " 'Aspirating 10uL at <In Place>',\n",
       " 'Dispensing 10uL at <In Place>',\n",
       " 'Aspirating 10uL at <In Place>',\n",
       " 'Dispensing 10uL at <In Place>',\n",
       " 'Aspirating 1uL at <Deck>/<Slot C1>/<Container tuberack>/<Well A2>',\n",
       " 'Dispensing <Well B2>uL at <In Place>',\n",
       " 'Touching tip',\n",
       " 'Mixing 3 times with a volume of 0ul',\n",
       " 'Aspirating 10uL at <Deck>/<Slot C1>/<Container tuberack>/<Well B2>',\n",
       " 'Dispensing 10uL at <In Place>',\n",
       " 'Aspirating 10uL at <In Place>',\n",
       " 'Dispensing 10uL at <In Place>',\n",
       " 'Aspirating 10uL at <In Place>',\n",
       " 'Dispensing 10uL at <In Place>',\n",
       " 'Drop_tip at <In Place>']"
      ]
     },
     "execution_count": 8,
     "metadata": {},
     "output_type": "execute_result"
    }
   ],
   "source": [
    "robot.commands()"
   ]
  },
  {
   "cell_type": "code",
   "execution_count": null,
   "metadata": {
    "collapsed": true
   },
   "outputs": [],
   "source": []
  }
 ],
 "metadata": {
  "anaconda-cloud": {},
  "kernelspec": {
   "display_name": "Python [conda root]",
   "language": "python",
   "name": "conda-root-py"
  },
  "language_info": {
   "codemirror_mode": {
    "name": "ipython",
    "version": 3
   },
   "file_extension": ".py",
   "mimetype": "text/x-python",
   "name": "python",
   "nbconvert_exporter": "python",
   "pygments_lexer": "ipython3",
   "version": "3.5.2"
  }
 },
 "nbformat": 4,
 "nbformat_minor": 1
}
