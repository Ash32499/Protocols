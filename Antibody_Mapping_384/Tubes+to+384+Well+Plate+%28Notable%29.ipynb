{
 "cells": [
  {
   "cell_type": "code",
   "execution_count": null,
   "metadata": {
    "collapsed": false
   },
   "outputs": [],
   "source": [
    "#!pip install --upgrade opentrons"
   ]
  },
  {
   "cell_type": "code",
   "execution_count": 1,
   "metadata": {
    "collapsed": true
   },
   "outputs": [],
   "source": [
    "from opentrons import robot, containers, instruments"
   ]
  },
  {
   "cell_type": "code",
   "execution_count": 2,
   "metadata": {
    "collapsed": false
   },
   "outputs": [],
   "source": [
    "\n",
    "p200rack = containers.load(\n",
    "    'tiprack-200ul', \n",
    "    'A1',\n",
    "    'p200rack')\n",
    "\n",
    "trash = containers.load(\n",
    "    'point',\n",
    "    'A2',\n",
    "    'trash'\n",
    ")\n",
    "tube_rack = containers.load(\n",
    "    'tube-rack-2ml',\n",
    "    'C2',\n",
    "    'tube_rack'\n",
    ")\n",
    "plate = containers.load(\n",
    "    '384-plate',\n",
    "    'C1',\n",
    "    'plate'\n",
    ")\n",
    "\n",
    "p200 = instruments.Pipette(\n",
    "        axis=\"b\",\n",
    "        max_volume=200,\n",
    "        min_volume=20,\n",
    "        tip_racks=[p200rack],\n",
    "        trash_container=trash,\n",
    "        channels=1,\n",
    "        name=\"p200\"\n",
    ")"
   ]
  },
  {
   "cell_type": "code",
   "execution_count": 3,
   "metadata": {
    "collapsed": true
   },
   "outputs": [],
   "source": [
    "# dispense 40 uL from tube to plate, for 24 tubes\n",
    "for i in range(24):\n",
    "    p200.pick_up_tip().aspirate(40, tube_rack[i]).dispense(plate[i]).drop_tip()"
   ]
  },
  {
   "cell_type": "code",
   "execution_count": 4,
   "metadata": {
    "collapsed": false
   },
   "outputs": [
    {
     "data": {
      "text/plain": [
       "['Picking up tip from <In Place>',\n",
       " 'Aspirating 40uL at <Deck>/<Slot C2>/<Container tube_rack>/<Well A1>',\n",
       " 'Dispensing <Well A1>uL at <In Place>',\n",
       " 'Drop_tip at <In Place>',\n",
       " 'Picking up tip from <In Place>',\n",
       " 'Aspirating 40uL at <Deck>/<Slot C2>/<Container tube_rack>/<Well B1>',\n",
       " 'Dispensing <Well B1>uL at <In Place>',\n",
       " 'Drop_tip at <In Place>',\n",
       " 'Picking up tip from <In Place>',\n",
       " 'Aspirating 40uL at <Deck>/<Slot C2>/<Container tube_rack>/<Well C1>',\n",
       " 'Dispensing <Well C1>uL at <In Place>',\n",
       " 'Drop_tip at <In Place>',\n",
       " 'Picking up tip from <In Place>',\n",
       " 'Aspirating 40uL at <Deck>/<Slot C2>/<Container tube_rack>/<Well D1>',\n",
       " 'Dispensing <Well D1>uL at <In Place>',\n",
       " 'Drop_tip at <In Place>',\n",
       " 'Picking up tip from <In Place>',\n",
       " 'Aspirating 40uL at <Deck>/<Slot C2>/<Container tube_rack>/<Well A2>',\n",
       " 'Dispensing <Well E1>uL at <In Place>',\n",
       " 'Drop_tip at <In Place>',\n",
       " 'Picking up tip from <In Place>',\n",
       " 'Aspirating 40uL at <Deck>/<Slot C2>/<Container tube_rack>/<Well B2>',\n",
       " 'Dispensing <Well F1>uL at <In Place>',\n",
       " 'Drop_tip at <In Place>',\n",
       " 'Picking up tip from <In Place>',\n",
       " 'Aspirating 40uL at <Deck>/<Slot C2>/<Container tube_rack>/<Well C2>',\n",
       " 'Dispensing <Well G1>uL at <In Place>',\n",
       " 'Drop_tip at <In Place>',\n",
       " 'Picking up tip from <In Place>',\n",
       " 'Aspirating 40uL at <Deck>/<Slot C2>/<Container tube_rack>/<Well D2>',\n",
       " 'Dispensing <Well H1>uL at <In Place>',\n",
       " 'Drop_tip at <In Place>',\n",
       " 'Picking up tip from <In Place>',\n",
       " 'Aspirating 40uL at <Deck>/<Slot C2>/<Container tube_rack>/<Well A3>',\n",
       " 'Dispensing <Well I1>uL at <In Place>',\n",
       " 'Drop_tip at <In Place>',\n",
       " 'Picking up tip from <In Place>',\n",
       " 'Aspirating 40uL at <Deck>/<Slot C2>/<Container tube_rack>/<Well B3>',\n",
       " 'Dispensing <Well J1>uL at <In Place>',\n",
       " 'Drop_tip at <In Place>',\n",
       " 'Picking up tip from <In Place>',\n",
       " 'Aspirating 40uL at <Deck>/<Slot C2>/<Container tube_rack>/<Well C3>',\n",
       " 'Dispensing <Well K1>uL at <In Place>',\n",
       " 'Drop_tip at <In Place>',\n",
       " 'Picking up tip from <In Place>',\n",
       " 'Aspirating 40uL at <Deck>/<Slot C2>/<Container tube_rack>/<Well D3>',\n",
       " 'Dispensing <Well L1>uL at <In Place>',\n",
       " 'Drop_tip at <In Place>',\n",
       " 'Picking up tip from <In Place>',\n",
       " 'Aspirating 40uL at <Deck>/<Slot C2>/<Container tube_rack>/<Well A4>',\n",
       " 'Dispensing <Well M1>uL at <In Place>',\n",
       " 'Drop_tip at <In Place>',\n",
       " 'Picking up tip from <In Place>',\n",
       " 'Aspirating 40uL at <Deck>/<Slot C2>/<Container tube_rack>/<Well B4>',\n",
       " 'Dispensing <Well N1>uL at <In Place>',\n",
       " 'Drop_tip at <In Place>',\n",
       " 'Picking up tip from <In Place>',\n",
       " 'Aspirating 40uL at <Deck>/<Slot C2>/<Container tube_rack>/<Well C4>',\n",
       " 'Dispensing <Well O1>uL at <In Place>',\n",
       " 'Drop_tip at <In Place>',\n",
       " 'Picking up tip from <In Place>',\n",
       " 'Aspirating 40uL at <Deck>/<Slot C2>/<Container tube_rack>/<Well D4>',\n",
       " 'Dispensing <Well P1>uL at <In Place>',\n",
       " 'Drop_tip at <In Place>',\n",
       " 'Picking up tip from <In Place>',\n",
       " 'Aspirating 40uL at <Deck>/<Slot C2>/<Container tube_rack>/<Well A5>',\n",
       " 'Dispensing <Well A2>uL at <In Place>',\n",
       " 'Drop_tip at <In Place>',\n",
       " 'Picking up tip from <In Place>',\n",
       " 'Aspirating 40uL at <Deck>/<Slot C2>/<Container tube_rack>/<Well B5>',\n",
       " 'Dispensing <Well B2>uL at <In Place>',\n",
       " 'Drop_tip at <In Place>',\n",
       " 'Picking up tip from <In Place>',\n",
       " 'Aspirating 40uL at <Deck>/<Slot C2>/<Container tube_rack>/<Well C5>',\n",
       " 'Dispensing <Well C2>uL at <In Place>',\n",
       " 'Drop_tip at <In Place>',\n",
       " 'Picking up tip from <In Place>',\n",
       " 'Aspirating 40uL at <Deck>/<Slot C2>/<Container tube_rack>/<Well D5>',\n",
       " 'Dispensing <Well D2>uL at <In Place>',\n",
       " 'Drop_tip at <In Place>',\n",
       " 'Picking up tip from <In Place>',\n",
       " 'Aspirating 40uL at <Deck>/<Slot C2>/<Container tube_rack>/<Well A6>',\n",
       " 'Dispensing <Well E2>uL at <In Place>',\n",
       " 'Drop_tip at <In Place>',\n",
       " 'Picking up tip from <In Place>',\n",
       " 'Aspirating 40uL at <Deck>/<Slot C2>/<Container tube_rack>/<Well B6>',\n",
       " 'Dispensing <Well F2>uL at <In Place>',\n",
       " 'Drop_tip at <In Place>',\n",
       " 'Picking up tip from <In Place>',\n",
       " 'Aspirating 40uL at <Deck>/<Slot C2>/<Container tube_rack>/<Well C6>',\n",
       " 'Dispensing <Well G2>uL at <In Place>',\n",
       " 'Drop_tip at <In Place>',\n",
       " 'Picking up tip from <In Place>',\n",
       " 'Aspirating 40uL at <Deck>/<Slot C2>/<Container tube_rack>/<Well D6>',\n",
       " 'Dispensing <Well H2>uL at <In Place>',\n",
       " 'Drop_tip at <In Place>']"
      ]
     },
     "execution_count": 4,
     "metadata": {},
     "output_type": "execute_result"
    }
   ],
   "source": [
    "robot.commands()"
   ]
  },
  {
   "cell_type": "code",
   "execution_count": null,
   "metadata": {
    "collapsed": true
   },
   "outputs": [],
   "source": []
  }
 ],
 "metadata": {
  "anaconda-cloud": {},
  "kernelspec": {
   "display_name": "Python [conda root]",
   "language": "python",
   "name": "conda-root-py"
  },
  "language_info": {
   "codemirror_mode": {
    "name": "ipython",
    "version": 3
   },
   "file_extension": ".py",
   "mimetype": "text/x-python",
   "name": "python",
   "nbconvert_exporter": "python",
   "pygments_lexer": "ipython3",
   "version": "3.5.2"
  }
 },
 "nbformat": 4,
 "nbformat_minor": 1
}
